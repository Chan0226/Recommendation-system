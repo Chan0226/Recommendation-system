{
  "cells": [
    {
      "cell_type": "markdown",
      "metadata": {
        "id": "view-in-github",
        "colab_type": "text"
      },
      "source": [
        "<a href=\"https://colab.research.google.com/github/Chan0226/Recommendation-system/blob/main/%EC%B6%94%EC%B2%9C%EC%8B%9C%EC%8A%A4%ED%85%9C_Word2Vec.ipynb\" target=\"_parent\"><img src=\"https://colab.research.google.com/assets/colab-badge.svg\" alt=\"Open In Colab\"/></a>"
      ]
    },
    {
      "cell_type": "code",
      "execution_count": null,
      "metadata": {
        "id": "qCPAxjL99_f0"
      },
      "outputs": [],
      "source": [
        "# https://www.kaggle.com/rounakbanik/the-movies-dataset"
      ]
    },
    {
      "cell_type": "code",
      "execution_count": null,
      "metadata": {
        "id": "-A_T6TNz84OV"
      },
      "outputs": [],
      "source": [
        "import pandas as pd\n",
        "import numpy as np"
      ]
    },
    {
      "cell_type": "code",
      "execution_count": null,
      "metadata": {
        "colab": {
          "base_uri": "https://localhost:8080/",
          "height": 224
        },
        "id": "EV9d0D0P9dgq",
        "outputId": "648178e0-1c58-4ee7-f40e-5add81d4abdc"
      },
      "outputs": [
        {
          "output_type": "stream",
          "name": "stdout",
          "text": [
            "(4324793, 4)\n"
          ]
        },
        {
          "output_type": "execute_result",
          "data": {
            "text/html": [
              "<div>\n",
              "<style scoped>\n",
              "    .dataframe tbody tr th:only-of-type {\n",
              "        vertical-align: middle;\n",
              "    }\n",
              "\n",
              "    .dataframe tbody tr th {\n",
              "        vertical-align: top;\n",
              "    }\n",
              "\n",
              "    .dataframe thead th {\n",
              "        text-align: right;\n",
              "    }\n",
              "</style>\n",
              "<table border=\"1\" class=\"dataframe\">\n",
              "  <thead>\n",
              "    <tr style=\"text-align: right;\">\n",
              "      <th></th>\n",
              "      <th>userId</th>\n",
              "      <th>id</th>\n",
              "      <th>rating</th>\n",
              "      <th>timestamp</th>\n",
              "    </tr>\n",
              "  </thead>\n",
              "  <tbody>\n",
              "    <tr>\n",
              "      <th>0</th>\n",
              "      <td>1</td>\n",
              "      <td>110</td>\n",
              "      <td>1.0</td>\n",
              "      <td>1425941529</td>\n",
              "    </tr>\n",
              "    <tr>\n",
              "      <th>1</th>\n",
              "      <td>1</td>\n",
              "      <td>147</td>\n",
              "      <td>4.5</td>\n",
              "      <td>1425942435</td>\n",
              "    </tr>\n",
              "    <tr>\n",
              "      <th>2</th>\n",
              "      <td>1</td>\n",
              "      <td>858</td>\n",
              "      <td>5.0</td>\n",
              "      <td>1425941523</td>\n",
              "    </tr>\n",
              "    <tr>\n",
              "      <th>3</th>\n",
              "      <td>1</td>\n",
              "      <td>1221</td>\n",
              "      <td>5.0</td>\n",
              "      <td>1425941546</td>\n",
              "    </tr>\n",
              "    <tr>\n",
              "      <th>4</th>\n",
              "      <td>1</td>\n",
              "      <td>1246</td>\n",
              "      <td>5.0</td>\n",
              "      <td>1425941556</td>\n",
              "    </tr>\n",
              "  </tbody>\n",
              "</table>\n",
              "</div>"
            ],
            "text/plain": [
              "   userId    id  rating   timestamp\n",
              "0       1   110     1.0  1425941529\n",
              "1       1   147     4.5  1425942435\n",
              "2       1   858     5.0  1425941523\n",
              "3       1  1221     5.0  1425941546\n",
              "4       1  1246     5.0  1425941556"
            ]
          },
          "metadata": {},
          "execution_count": 22
        }
      ],
      "source": [
        "movie =  pd.read_csv('/content/ratings.csv',low_memory=False)\n",
        "movie = movie.rename(columns={'movieId' : 'id'})\n",
        "print(movie.shape)\n",
        "movie.head()"
      ]
    },
    {
      "cell_type": "code",
      "execution_count": null,
      "metadata": {
        "colab": {
          "base_uri": "https://localhost:8080/",
          "height": 206
        },
        "id": "m1-pr8Pl9ggR",
        "outputId": "ffbb6451-97ab-4a44-f2f1-aac29a919771"
      },
      "outputs": [
        {
          "output_type": "execute_result",
          "data": {
            "text/html": [
              "<div>\n",
              "<style scoped>\n",
              "    .dataframe tbody tr th:only-of-type {\n",
              "        vertical-align: middle;\n",
              "    }\n",
              "\n",
              "    .dataframe tbody tr th {\n",
              "        vertical-align: top;\n",
              "    }\n",
              "\n",
              "    .dataframe thead th {\n",
              "        text-align: right;\n",
              "    }\n",
              "</style>\n",
              "<table border=\"1\" class=\"dataframe\">\n",
              "  <thead>\n",
              "    <tr style=\"text-align: right;\">\n",
              "      <th></th>\n",
              "      <th>index</th>\n",
              "      <th>userId</th>\n",
              "      <th>id</th>\n",
              "      <th>rating</th>\n",
              "      <th>timestamp</th>\n",
              "    </tr>\n",
              "  </thead>\n",
              "  <tbody>\n",
              "    <tr>\n",
              "      <th>0</th>\n",
              "      <td>4324792</td>\n",
              "      <td>44815</td>\n",
              "      <td>4995</td>\n",
              "      <td>4.5</td>\n",
              "      <td>108544</td>\n",
              "    </tr>\n",
              "    <tr>\n",
              "      <th>1</th>\n",
              "      <td>3662481</td>\n",
              "      <td>38150</td>\n",
              "      <td>1176</td>\n",
              "      <td>4.0</td>\n",
              "      <td>789652004</td>\n",
              "    </tr>\n",
              "    <tr>\n",
              "      <th>2</th>\n",
              "      <td>4313954</td>\n",
              "      <td>44717</td>\n",
              "      <td>1079</td>\n",
              "      <td>3.0</td>\n",
              "      <td>789652009</td>\n",
              "    </tr>\n",
              "    <tr>\n",
              "      <th>3</th>\n",
              "      <td>4313911</td>\n",
              "      <td>44717</td>\n",
              "      <td>47</td>\n",
              "      <td>5.0</td>\n",
              "      <td>789652009</td>\n",
              "    </tr>\n",
              "    <tr>\n",
              "      <th>4</th>\n",
              "      <td>4313905</td>\n",
              "      <td>44717</td>\n",
              "      <td>21</td>\n",
              "      <td>3.0</td>\n",
              "      <td>789652009</td>\n",
              "    </tr>\n",
              "  </tbody>\n",
              "</table>\n",
              "</div>"
            ],
            "text/plain": [
              "     index  userId    id  rating  timestamp\n",
              "0  4324792   44815  4995     4.5     108544\n",
              "1  3662481   38150  1176     4.0  789652004\n",
              "2  4313954   44717  1079     3.0  789652009\n",
              "3  4313911   44717    47     5.0  789652009\n",
              "4  4313905   44717    21     3.0  789652009"
            ]
          },
          "metadata": {},
          "execution_count": 23
        }
      ],
      "source": [
        "movie = movie.sort_values(by = 'timestamp').reset_index()\n",
        "\n",
        "movie.head()"
      ]
    },
    {
      "cell_type": "code",
      "execution_count": null,
      "metadata": {
        "colab": {
          "base_uri": "https://localhost:8080/",
          "height": 678
        },
        "id": "-S8jHkVY_ImJ",
        "outputId": "361e672a-c8ec-445a-aca4-28be8d371278"
      },
      "outputs": [
        {
          "output_type": "execute_result",
          "data": {
            "text/html": [
              "<div>\n",
              "<style scoped>\n",
              "    .dataframe tbody tr th:only-of-type {\n",
              "        vertical-align: middle;\n",
              "    }\n",
              "\n",
              "    .dataframe tbody tr th {\n",
              "        vertical-align: top;\n",
              "    }\n",
              "\n",
              "    .dataframe thead th {\n",
              "        text-align: right;\n",
              "    }\n",
              "</style>\n",
              "<table border=\"1\" class=\"dataframe\">\n",
              "  <thead>\n",
              "    <tr style=\"text-align: right;\">\n",
              "      <th></th>\n",
              "      <th>adult</th>\n",
              "      <th>belongs_to_collection</th>\n",
              "      <th>budget</th>\n",
              "      <th>genres</th>\n",
              "      <th>homepage</th>\n",
              "      <th>id</th>\n",
              "      <th>imdb_id</th>\n",
              "      <th>original_language</th>\n",
              "      <th>original_title</th>\n",
              "      <th>overview</th>\n",
              "      <th>popularity</th>\n",
              "      <th>poster_path</th>\n",
              "      <th>production_companies</th>\n",
              "      <th>production_countries</th>\n",
              "      <th>release_date</th>\n",
              "      <th>revenue</th>\n",
              "      <th>runtime</th>\n",
              "      <th>spoken_languages</th>\n",
              "      <th>status</th>\n",
              "      <th>tagline</th>\n",
              "      <th>title</th>\n",
              "      <th>video</th>\n",
              "      <th>vote_average</th>\n",
              "      <th>vote_count</th>\n",
              "    </tr>\n",
              "  </thead>\n",
              "  <tbody>\n",
              "    <tr>\n",
              "      <th>0</th>\n",
              "      <td>False</td>\n",
              "      <td>{'id': 10194, 'name': 'Toy Story Collection', ...</td>\n",
              "      <td>30000000</td>\n",
              "      <td>[{'id': 16, 'name': 'Animation'}, {'id': 35, '...</td>\n",
              "      <td>http://toystory.disney.com/toy-story</td>\n",
              "      <td>862</td>\n",
              "      <td>tt0114709</td>\n",
              "      <td>en</td>\n",
              "      <td>Toy Story</td>\n",
              "      <td>Led by Woody, Andy's toys live happily in his ...</td>\n",
              "      <td>21.946943</td>\n",
              "      <td>/rhIRbceoE9lR4veEXuwCC2wARtG.jpg</td>\n",
              "      <td>[{'name': 'Pixar Animation Studios', 'id': 3}]</td>\n",
              "      <td>[{'iso_3166_1': 'US', 'name': 'United States o...</td>\n",
              "      <td>1995-10-30</td>\n",
              "      <td>373554033.0</td>\n",
              "      <td>81.0</td>\n",
              "      <td>[{'iso_639_1': 'en', 'name': 'English'}]</td>\n",
              "      <td>Released</td>\n",
              "      <td>NaN</td>\n",
              "      <td>Toy Story</td>\n",
              "      <td>False</td>\n",
              "      <td>7.7</td>\n",
              "      <td>5415.0</td>\n",
              "    </tr>\n",
              "    <tr>\n",
              "      <th>1</th>\n",
              "      <td>False</td>\n",
              "      <td>NaN</td>\n",
              "      <td>65000000</td>\n",
              "      <td>[{'id': 12, 'name': 'Adventure'}, {'id': 14, '...</td>\n",
              "      <td>NaN</td>\n",
              "      <td>8844</td>\n",
              "      <td>tt0113497</td>\n",
              "      <td>en</td>\n",
              "      <td>Jumanji</td>\n",
              "      <td>When siblings Judy and Peter discover an encha...</td>\n",
              "      <td>17.015539</td>\n",
              "      <td>/vzmL6fP7aPKNKPRTFnZmiUfciyV.jpg</td>\n",
              "      <td>[{'name': 'TriStar Pictures', 'id': 559}, {'na...</td>\n",
              "      <td>[{'iso_3166_1': 'US', 'name': 'United States o...</td>\n",
              "      <td>1995-12-15</td>\n",
              "      <td>262797249.0</td>\n",
              "      <td>104.0</td>\n",
              "      <td>[{'iso_639_1': 'en', 'name': 'English'}, {'iso...</td>\n",
              "      <td>Released</td>\n",
              "      <td>Roll the dice and unleash the excitement!</td>\n",
              "      <td>Jumanji</td>\n",
              "      <td>False</td>\n",
              "      <td>6.9</td>\n",
              "      <td>2413.0</td>\n",
              "    </tr>\n",
              "    <tr>\n",
              "      <th>2</th>\n",
              "      <td>False</td>\n",
              "      <td>{'id': 119050, 'name': 'Grumpy Old Men Collect...</td>\n",
              "      <td>0</td>\n",
              "      <td>[{'id': 10749, 'name': 'Romance'}, {'id': 35, ...</td>\n",
              "      <td>NaN</td>\n",
              "      <td>15602</td>\n",
              "      <td>tt0113228</td>\n",
              "      <td>en</td>\n",
              "      <td>Grumpier Old Men</td>\n",
              "      <td>A family wedding reignites the ancient feud be...</td>\n",
              "      <td>11.7129</td>\n",
              "      <td>/6ksm1sjKMFLbO7UY2i6G1ju9SML.jpg</td>\n",
              "      <td>[{'name': 'Warner Bros.', 'id': 6194}, {'name'...</td>\n",
              "      <td>[{'iso_3166_1': 'US', 'name': 'United States o...</td>\n",
              "      <td>1995-12-22</td>\n",
              "      <td>0.0</td>\n",
              "      <td>101.0</td>\n",
              "      <td>[{'iso_639_1': 'en', 'name': 'English'}]</td>\n",
              "      <td>Released</td>\n",
              "      <td>Still Yelling. Still Fighting. Still Ready for...</td>\n",
              "      <td>Grumpier Old Men</td>\n",
              "      <td>False</td>\n",
              "      <td>6.5</td>\n",
              "      <td>92.0</td>\n",
              "    </tr>\n",
              "    <tr>\n",
              "      <th>3</th>\n",
              "      <td>False</td>\n",
              "      <td>NaN</td>\n",
              "      <td>16000000</td>\n",
              "      <td>[{'id': 35, 'name': 'Comedy'}, {'id': 18, 'nam...</td>\n",
              "      <td>NaN</td>\n",
              "      <td>31357</td>\n",
              "      <td>tt0114885</td>\n",
              "      <td>en</td>\n",
              "      <td>Waiting to Exhale</td>\n",
              "      <td>Cheated on, mistreated and stepped on, the wom...</td>\n",
              "      <td>3.859495</td>\n",
              "      <td>/16XOMpEaLWkrcPqSQqhTmeJuqQl.jpg</td>\n",
              "      <td>[{'name': 'Twentieth Century Fox Film Corporat...</td>\n",
              "      <td>[{'iso_3166_1': 'US', 'name': 'United States o...</td>\n",
              "      <td>1995-12-22</td>\n",
              "      <td>81452156.0</td>\n",
              "      <td>127.0</td>\n",
              "      <td>[{'iso_639_1': 'en', 'name': 'English'}]</td>\n",
              "      <td>Released</td>\n",
              "      <td>Friends are the people who let you be yourself...</td>\n",
              "      <td>Waiting to Exhale</td>\n",
              "      <td>False</td>\n",
              "      <td>6.1</td>\n",
              "      <td>34.0</td>\n",
              "    </tr>\n",
              "    <tr>\n",
              "      <th>4</th>\n",
              "      <td>False</td>\n",
              "      <td>{'id': 96871, 'name': 'Father of the Bride Col...</td>\n",
              "      <td>0</td>\n",
              "      <td>[{'id': 35, 'name': 'Comedy'}]</td>\n",
              "      <td>NaN</td>\n",
              "      <td>11862</td>\n",
              "      <td>tt0113041</td>\n",
              "      <td>en</td>\n",
              "      <td>Father of the Bride Part II</td>\n",
              "      <td>Just when George Banks has recovered from his ...</td>\n",
              "      <td>8.387519</td>\n",
              "      <td>/e64sOI48hQXyru7naBFyssKFxVd.jpg</td>\n",
              "      <td>[{'name': 'Sandollar Productions', 'id': 5842}...</td>\n",
              "      <td>[{'iso_3166_1': 'US', 'name': 'United States o...</td>\n",
              "      <td>1995-02-10</td>\n",
              "      <td>76578911.0</td>\n",
              "      <td>106.0</td>\n",
              "      <td>[{'iso_639_1': 'en', 'name': 'English'}]</td>\n",
              "      <td>Released</td>\n",
              "      <td>Just When His World Is Back To Normal... He's ...</td>\n",
              "      <td>Father of the Bride Part II</td>\n",
              "      <td>False</td>\n",
              "      <td>5.7</td>\n",
              "      <td>173.0</td>\n",
              "    </tr>\n",
              "  </tbody>\n",
              "</table>\n",
              "</div>"
            ],
            "text/plain": [
              "   adult  ... vote_count\n",
              "0  False  ...     5415.0\n",
              "1  False  ...     2413.0\n",
              "2  False  ...       92.0\n",
              "3  False  ...       34.0\n",
              "4  False  ...      173.0\n",
              "\n",
              "[5 rows x 24 columns]"
            ]
          },
          "metadata": {},
          "execution_count": 24
        }
      ],
      "source": [
        "movie_meta = pd.read_csv('/content/movies_metadata.csv', low_memory=False)\n",
        "movie_meta.head()"
      ]
    },
    {
      "cell_type": "code",
      "execution_count": null,
      "metadata": {
        "colab": {
          "base_uri": "https://localhost:8080/"
        },
        "id": "X4vvDDT7C5-z",
        "outputId": "05a915fc-0f9c-4b72-dcc1-78656e5b3fab"
      },
      "outputs": [
        {
          "output_type": "stream",
          "name": "stdout",
          "text": [
            "<class 'pandas.core.frame.DataFrame'>\n",
            "RangeIndex: 45466 entries, 0 to 45465\n",
            "Data columns (total 24 columns):\n",
            " #   Column                 Non-Null Count  Dtype  \n",
            "---  ------                 --------------  -----  \n",
            " 0   adult                  45466 non-null  object \n",
            " 1   belongs_to_collection  4494 non-null   object \n",
            " 2   budget                 45466 non-null  object \n",
            " 3   genres                 45466 non-null  object \n",
            " 4   homepage               7782 non-null   object \n",
            " 5   id                     45466 non-null  object \n",
            " 6   imdb_id                45449 non-null  object \n",
            " 7   original_language      45455 non-null  object \n",
            " 8   original_title         45466 non-null  object \n",
            " 9   overview               44512 non-null  object \n",
            " 10  popularity             45461 non-null  object \n",
            " 11  poster_path            45080 non-null  object \n",
            " 12  production_companies   45463 non-null  object \n",
            " 13  production_countries   45463 non-null  object \n",
            " 14  release_date           45379 non-null  object \n",
            " 15  revenue                45460 non-null  float64\n",
            " 16  runtime                45203 non-null  float64\n",
            " 17  spoken_languages       45460 non-null  object \n",
            " 18  status                 45379 non-null  object \n",
            " 19  tagline                20412 non-null  object \n",
            " 20  title                  45460 non-null  object \n",
            " 21  video                  45460 non-null  object \n",
            " 22  vote_average           45460 non-null  float64\n",
            " 23  vote_count             45460 non-null  float64\n",
            "dtypes: float64(4), object(20)\n",
            "memory usage: 8.3+ MB\n"
          ]
        }
      ],
      "source": [
        "movie_meta.info()"
      ]
    },
    {
      "cell_type": "code",
      "execution_count": null,
      "metadata": {
        "id": "j4bQLSqM_w6R"
      },
      "outputs": [],
      "source": [
        "movie_meta['id'] = movie_meta['id'].astype(str)\n",
        "movie['id'] = movie['id'].astype(str)"
      ]
    },
    {
      "cell_type": "code",
      "execution_count": null,
      "metadata": {
        "id": "qlZskZunAsPo"
      },
      "outputs": [],
      "source": [
        "movie_meta = pd.merge(movie, movie_meta[['id', 'original_title']], how = 'left', on = 'id')"
      ]
    },
    {
      "cell_type": "code",
      "execution_count": null,
      "metadata": {
        "colab": {
          "base_uri": "https://localhost:8080/",
          "height": 206
        },
        "id": "c-Q1xOyHCw9v",
        "outputId": "c851593c-9b7f-4a46-9a1e-aead7415e75a"
      },
      "outputs": [
        {
          "output_type": "execute_result",
          "data": {
            "text/html": [
              "<div>\n",
              "<style scoped>\n",
              "    .dataframe tbody tr th:only-of-type {\n",
              "        vertical-align: middle;\n",
              "    }\n",
              "\n",
              "    .dataframe tbody tr th {\n",
              "        vertical-align: top;\n",
              "    }\n",
              "\n",
              "    .dataframe thead th {\n",
              "        text-align: right;\n",
              "    }\n",
              "</style>\n",
              "<table border=\"1\" class=\"dataframe\">\n",
              "  <thead>\n",
              "    <tr style=\"text-align: right;\">\n",
              "      <th></th>\n",
              "      <th>index</th>\n",
              "      <th>userId</th>\n",
              "      <th>id</th>\n",
              "      <th>rating</th>\n",
              "      <th>timestamp</th>\n",
              "      <th>original_title</th>\n",
              "    </tr>\n",
              "  </thead>\n",
              "  <tbody>\n",
              "    <tr>\n",
              "      <th>0</th>\n",
              "      <td>4324792</td>\n",
              "      <td>44815</td>\n",
              "      <td>4995</td>\n",
              "      <td>4.5</td>\n",
              "      <td>108544</td>\n",
              "      <td>Boogie Nights</td>\n",
              "    </tr>\n",
              "    <tr>\n",
              "      <th>1</th>\n",
              "      <td>3662481</td>\n",
              "      <td>38150</td>\n",
              "      <td>1176</td>\n",
              "      <td>4.0</td>\n",
              "      <td>789652004</td>\n",
              "      <td>NaN</td>\n",
              "    </tr>\n",
              "    <tr>\n",
              "      <th>2</th>\n",
              "      <td>4313954</td>\n",
              "      <td>44717</td>\n",
              "      <td>1079</td>\n",
              "      <td>3.0</td>\n",
              "      <td>789652009</td>\n",
              "      <td>NaN</td>\n",
              "    </tr>\n",
              "    <tr>\n",
              "      <th>3</th>\n",
              "      <td>4313911</td>\n",
              "      <td>44717</td>\n",
              "      <td>47</td>\n",
              "      <td>5.0</td>\n",
              "      <td>789652009</td>\n",
              "      <td>NaN</td>\n",
              "    </tr>\n",
              "    <tr>\n",
              "      <th>4</th>\n",
              "      <td>4313905</td>\n",
              "      <td>44717</td>\n",
              "      <td>21</td>\n",
              "      <td>3.0</td>\n",
              "      <td>789652009</td>\n",
              "      <td>The Endless Summer</td>\n",
              "    </tr>\n",
              "  </tbody>\n",
              "</table>\n",
              "</div>"
            ],
            "text/plain": [
              "     index  userId    id  rating  timestamp      original_title\n",
              "0  4324792   44815  4995     4.5     108544       Boogie Nights\n",
              "1  3662481   38150  1176     4.0  789652004                 NaN\n",
              "2  4313954   44717  1079     3.0  789652009                 NaN\n",
              "3  4313911   44717    47     5.0  789652009                 NaN\n",
              "4  4313905   44717    21     3.0  789652009  The Endless Summer"
            ]
          },
          "metadata": {},
          "execution_count": 28
        }
      ],
      "source": [
        "movie_meta.head()"
      ]
    },
    {
      "cell_type": "code",
      "execution_count": null,
      "metadata": {
        "colab": {
          "base_uri": "https://localhost:8080/"
        },
        "id": "VZrSAR0SDKCA",
        "outputId": "9743a9bf-d3ae-4f93-95b4-dcce5b597855"
      },
      "outputs": [
        {
          "output_type": "stream",
          "name": "stdout",
          "text": [
            "<class 'pandas.core.frame.DataFrame'>\n",
            "Int64Index: 4324973 entries, 0 to 4324972\n",
            "Data columns (total 6 columns):\n",
            " #   Column          Dtype  \n",
            "---  ------          -----  \n",
            " 0   index           int64  \n",
            " 1   userId          int64  \n",
            " 2   id              object \n",
            " 3   rating          float64\n",
            " 4   timestamp       int64  \n",
            " 5   original_title  object \n",
            "dtypes: float64(1), int64(3), object(2)\n",
            "memory usage: 231.0+ MB\n"
          ]
        }
      ],
      "source": [
        "movie_meta.info()"
      ]
    },
    {
      "cell_type": "code",
      "execution_count": null,
      "metadata": {
        "id": "wO-uykOgDPsh"
      },
      "outputs": [],
      "source": [
        "movie_meta = movie_meta[movie_meta['original_title'].notnull()].reset_index()"
      ]
    },
    {
      "cell_type": "code",
      "execution_count": null,
      "metadata": {
        "colab": {
          "base_uri": "https://localhost:8080/",
          "height": 238
        },
        "id": "N4WjHsVyEaoY",
        "outputId": "761420c7-2f1f-456b-eff2-b35b45d66b10"
      },
      "outputs": [
        {
          "output_type": "execute_result",
          "data": {
            "text/html": [
              "<div>\n",
              "<style scoped>\n",
              "    .dataframe tbody tr th:only-of-type {\n",
              "        vertical-align: middle;\n",
              "    }\n",
              "\n",
              "    .dataframe tbody tr th {\n",
              "        vertical-align: top;\n",
              "    }\n",
              "\n",
              "    .dataframe thead th {\n",
              "        text-align: right;\n",
              "    }\n",
              "</style>\n",
              "<table border=\"1\" class=\"dataframe\">\n",
              "  <thead>\n",
              "    <tr style=\"text-align: right;\">\n",
              "      <th></th>\n",
              "      <th>unique</th>\n",
              "    </tr>\n",
              "    <tr>\n",
              "      <th>userId</th>\n",
              "      <th></th>\n",
              "    </tr>\n",
              "  </thead>\n",
              "  <tbody>\n",
              "    <tr>\n",
              "      <th>1</th>\n",
              "      <td>[Young and Innocent, Shuang ma lian huan, Cesa...</td>\n",
              "    </tr>\n",
              "    <tr>\n",
              "      <th>2</th>\n",
              "      <td>[La passion de Jeanne d'Arc, La belle et la bê...</td>\n",
              "    </tr>\n",
              "    <tr>\n",
              "      <th>3</th>\n",
              "      <td>[I Love You to Death, Once Were Warriors, Mons...</td>\n",
              "    </tr>\n",
              "    <tr>\n",
              "      <th>4</th>\n",
              "      <td>[Muxmäuschenstill, Batman &amp; Robin, Hidalgo, 12...</td>\n",
              "    </tr>\n",
              "    <tr>\n",
              "      <th>5</th>\n",
              "      <td>[Star Trek III: The Search for Spock, The Curs...</td>\n",
              "    </tr>\n",
              "  </tbody>\n",
              "</table>\n",
              "</div>"
            ],
            "text/plain": [
              "                                                   unique\n",
              "userId                                                   \n",
              "1       [Young and Innocent, Shuang ma lian huan, Cesa...\n",
              "2       [La passion de Jeanne d'Arc, La belle et la bê...\n",
              "3       [I Love You to Death, Once Were Warriors, Mons...\n",
              "4       [Muxmäuschenstill, Batman & Robin, Hidalgo, 12...\n",
              "5       [Star Trek III: The Search for Spock, The Curs..."
            ]
          },
          "metadata": {},
          "execution_count": 32
        }
      ],
      "source": [
        "# movie_meta.groupby(['userId'])['rating'].agg({'sum','count'})\n",
        "agg = movie_meta.groupby(['userId'])['original_title'].agg({'unique'})\n",
        "agg = pd.DataFrame(agg)\n",
        "agg.head()"
      ]
    },
    {
      "cell_type": "code",
      "execution_count": null,
      "metadata": {
        "colab": {
          "base_uri": "https://localhost:8080/"
        },
        "id": "QxD7_8gsE3VY",
        "outputId": "d914d976-20f9-452a-edfc-ae82f3402369"
      },
      "outputs": [
        {
          "output_type": "stream",
          "name": "stdout",
          "text": [
            "<class 'pandas.core.frame.DataFrame'>\n",
            "Int64Index: 20082 entries, 1 to 20452\n",
            "Data columns (total 1 columns):\n",
            " #   Column          Non-Null Count  Dtype \n",
            "---  ------          --------------  ----- \n",
            " 0   original_title  20082 non-null  object\n",
            "dtypes: object(1)\n",
            "memory usage: 313.8+ KB\n"
          ]
        }
      ],
      "source": [
        "agg.info()"
      ]
    },
    {
      "cell_type": "code",
      "execution_count": null,
      "metadata": {
        "id": "W_dvZF1NGAfJ",
        "colab": {
          "base_uri": "https://localhost:8080/"
        },
        "outputId": "1c86997f-ee97-41f6-9835-8d35b9390331"
      },
      "outputs": [
        {
          "output_type": "execute_result",
          "data": {
            "text/plain": [
              "[[\"La passion de Jeanne d'Arc\",\n",
              "  'La belle et la bête',\n",
              "  'Donnie Darko',\n",
              "  'Jarhead',\n",
              "  'The 39 Steps',\n",
              "  'Four Rooms',\n",
              "  'Almost Famous',\n",
              "  'Mrs. Doubtfire',\n",
              "  'Monty Python and the Holy Grail',\n",
              "  'Interview with the Vampire',\n",
              "  '英雄',\n",
              "  \"Pirates of the Caribbean: Dead Man's Chest\",\n",
              "  'Hable con ella',\n",
              "  'The Matrix Revolutions',\n",
              "  'Parenthood',\n",
              "  'A Nightmare on Elm Street',\n",
              "  'Night on Earth'],\n",
              " ['I Love You to Death',\n",
              "  'Once Were Warriors',\n",
              "  'Monsoon Wedding',\n",
              "  'Reservoir Dogs',\n",
              "  'Sleepless in Seattle',\n",
              "  'The Third Man',\n",
              "  'My Super Ex-Girlfriend',\n",
              "  'Fools Rush In'],\n",
              " ['Muxmäuschenstill',\n",
              "  'Batman & Robin',\n",
              "  'Hidalgo',\n",
              "  '12 + 1',\n",
              "  'Tuya de hun shi',\n",
              "  'Reign Over Me',\n",
              "  'Rebecca',\n",
              "  'The 13th Warrior',\n",
              "  'Der Tunnel',\n",
              "  'Furankenshutain Tai Chitei Kaijū Baragon',\n",
              "  'ฟ้าทะลายโจร',\n",
              "  'Der rote Elvis',\n",
              "  'Young and Innocent',\n",
              "  'The Searchers',\n",
              "  'Shriek If You Know What I Did Last Friday the Thirteenth',\n",
              "  \"L'important c'est d'aimer\",\n",
              "  'The Prisoner of Zenda',\n",
              "  'Don Juan DeMarco',\n",
              "  'A Time to Kill',\n",
              "  'Meet the Parents',\n",
              "  'La belle et la bête',\n",
              "  'The Vanishing',\n",
              "  'The Departed'],\n",
              " ['Star Trek III: The Search for Spock',\n",
              "  'The Curse of Frankenstein',\n",
              "  'The Searchers',\n",
              "  'Sleepless in Seattle',\n",
              "  'Murder She Said',\n",
              "  'Nell',\n",
              "  'The Man with the Golden Arm',\n",
              "  'Terminator 3: Rise of the Machines',\n",
              "  \"Je vais bien, ne t'en fais pas\",\n",
              "  'Breakdown'],\n",
              " ['Joe Versus the Volcano', 'Star Wars'],\n",
              " ['The Million Dollar Hotel',\n",
              "  'License to Wed',\n",
              "  '5 Card Stud',\n",
              "  'Bad Boys II',\n",
              "  'A River Runs Through It',\n",
              "  'Confession of a Child of the Century',\n",
              "  'Muxmäuschenstill',\n",
              "  'Longitude',\n",
              "  'Cousin, Cousine',\n",
              "  'Ober',\n",
              "  'The Garden of Eden',\n",
              "  'Yesterday',\n",
              "  'Le Bossu',\n",
              "  'مسافر',\n",
              "  'House of Dracula',\n",
              "  'New York Doll',\n",
              "  'Shuang ma lian huan',\n",
              "  '座頭市関所破り',\n",
              "  'Once in a Lifetime: The Extraordinary Story of the New York Cosmos',\n",
              "  'Die Frau mit den 5 Elefanten'],\n",
              " ['¡Átame!',\n",
              "  \"Cassandra's Dream\",\n",
              "  'Fools Rush In',\n",
              "  'Muxmäuschenstill',\n",
              "  'The Thomas Crown Affair',\n",
              "  '28 Days Later',\n",
              "  '5 Card Stud',\n",
              "  'Carry On Doctor',\n",
              "  'Montag kommen die Fenster',\n",
              "  'Rendition',\n",
              "  'Christine',\n",
              "  'Young and Innocent',\n",
              "  'Prime',\n",
              "  'Bridge to Terabithia',\n",
              "  'Diarios de motocicleta',\n",
              "  'Dogville',\n",
              "  \"Don't Come Knocking\",\n",
              "  'Final Fantasy VII: Advent Children',\n",
              "  'My Tutor',\n",
              "  'The Guardian',\n",
              "  'Lifeguard',\n",
              "  'Drop Zone',\n",
              "  'Hot Fuzz',\n",
              "  'Frankenstein',\n",
              "  'Nuits rouges',\n",
              "  'Hard Target',\n",
              "  'Kolja',\n",
              "  '怪獣総進撃',\n",
              "  'Wasabi',\n",
              "  'Le Secret',\n",
              "  'Modern Times',\n",
              "  'Street Kings',\n",
              "  'Furankenshutain no Kaijū: Sanda tai Gaira',\n",
              "  'Greed',\n",
              "  'Space Jam',\n",
              "  'M',\n",
              "  'Dr. Jekyll and Mr. Hyde',\n",
              "  'Barry Lyndon',\n",
              "  '菊次郎の夏',\n",
              "  'Nirgendwo in Afrika',\n",
              "  'Ae Fond Kiss...',\n",
              "  'A Perfect Murder',\n",
              "  'Teenage Mutant Ninja Turtles III',\n",
              "  'Taxi 3',\n",
              "  'Monsters, Inc.',\n",
              "  'Vivre sa vie: film en douze tableaux',\n",
              "  'The Men',\n",
              "  'Dog Day Afternoon',\n",
              "  'Stuck on You',\n",
              "  'The Million Dollar Hotel',\n",
              "  'Nosferatu, eine Symphonie des Grauens',\n",
              "  'Mr. Deeds'],\n",
              " ['The Terminal',\n",
              "  'Reign Over Me',\n",
              "  'Murder She Said',\n",
              "  'The Green Mile',\n",
              "  'Y tu mamá también',\n",
              "  'Local Color',\n",
              "  'Mosura tai Gojira',\n",
              "  'Diarios de motocicleta',\n",
              "  'Sommersturm',\n",
              "  'Will Penny',\n",
              "  'Heathers',\n",
              "  'Sous le Sable',\n",
              "  'Shriek If You Know What I Did Last Friday the Thirteenth',\n",
              "  '5 Card Stud',\n",
              "  'And Then There Were None',\n",
              "  'A Bridge Too Far',\n",
              "  'Der letzte Mann',\n",
              "  'Muxmäuschenstill',\n",
              "  'Ober',\n",
              "  '隠し砦の三悪人',\n",
              "  'Montag kommen die Fenster',\n",
              "  'Astérix aux Jeux Olympiques',\n",
              "  'Young and Innocent',\n",
              "  'The Searchers',\n",
              "  'Rocky Balboa',\n",
              "  'Stranger Than Fiction',\n",
              "  '48 Hrs.',\n",
              "  'Married to the Mob'],\n",
              " ['Terminator 3: Rise of the Machines',\n",
              "  '48 Hrs.',\n",
              "  'The Hours',\n",
              "  'Rain Man',\n",
              "  'The Conversation',\n",
              "  'Lost in Translation',\n",
              "  'Crustacés et coquillages',\n",
              "  'Back to the Future Part II',\n",
              "  'Silent Hill',\n",
              "  'Bang Boom Bang - Ein todsicheres Ding',\n",
              "  'Солярис',\n",
              "  'To Kill a Mockingbird',\n",
              "  'Sissi']]"
            ]
          },
          "metadata": {},
          "execution_count": 37
        }
      ],
      "source": [
        "# Word2vec -- 문자\n",
        "# agg.index = agg.index.astype(str)\n",
        "test = []\n",
        "for i in agg['unique'].values:\n",
        "  test.append(list(map(str,i)))\n",
        "\n",
        "test[1:10]  \n"
      ]
    },
    {
      "cell_type": "code",
      "execution_count": null,
      "metadata": {
        "id": "5id2GX_rHQMQ"
      },
      "outputs": [],
      "source": [
        "from gensim.models import Word2Vec\n",
        "model =  Word2Vec(test,size = 20, window = 5, min_count =1, workers=4,iter=10,sg=1)"
      ]
    },
    {
      "cell_type": "code",
      "execution_count": null,
      "metadata": {
        "colab": {
          "base_uri": "https://localhost:8080/"
        },
        "id": "yOnvmX2OHrXY",
        "outputId": "498aafdb-3a30-4a34-e6eb-f4134e48a485"
      },
      "outputs": [
        {
          "output_type": "execute_result",
          "data": {
            "text/plain": [
              "[('Rent', 0.9525529146194458),\n",
              " ('Stuck on You', 0.9471043348312378),\n",
              " ('Erkan & Stefan in Der Tod kommt krass', 0.9425098896026611),\n",
              " ('Escape from the Planet of the Apes', 0.906892716884613),\n",
              " (\"L'Enfant sauvage\", 0.8924970030784607),\n",
              " (\"La Marche de l'empereur\", 0.8875250220298767),\n",
              " ('綠草地', 0.8772715926170349),\n",
              " ('Transformers', 0.8616079092025757),\n",
              " ('Bordertown', 0.8615713119506836),\n",
              " ('Secret Window', 0.8482496738433838)]"
            ]
          },
          "metadata": {},
          "execution_count": 38
        }
      ],
      "source": [
        "model.wv.most_similar(positive=['Taxi 3'], topn=10)"
      ]
    }
  ],
  "metadata": {
    "colab": {
      "collapsed_sections": [],
      "name": "추천시스템 Word2Vec.ipynb",
      "provenance": [],
      "include_colab_link": true
    },
    "kernelspec": {
      "display_name": "Python 3",
      "name": "python3"
    },
    "language_info": {
      "name": "python"
    },
    "accelerator": "GPU"
  },
  "nbformat": 4,
  "nbformat_minor": 0
}